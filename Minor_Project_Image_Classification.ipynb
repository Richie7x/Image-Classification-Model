{
  "nbformat": 4,
  "nbformat_minor": 0,
  "metadata": {
    "colab": {
      "name": "Minor Project - Image Classification.ipynb",
      "provenance": [],
      "collapsed_sections": [],
      "authorship_tag": "ABX9TyPAnCvWPom5QXLomQlDeYnj",
      "include_colab_link": true
    },
    "kernelspec": {
      "name": "python3",
      "display_name": "Python 3"
    },
    "language_info": {
      "name": "python"
    }
  },
  "cells": [
    {
      "cell_type": "markdown",
      "metadata": {
        "id": "view-in-github",
        "colab_type": "text"
      },
      "source": [
        "<a href=\"https://colab.research.google.com/github/Richie7x/Image-Classification-Model/blob/main/Minor_Project_Image_Classification.ipynb\" target=\"_parent\"><img src=\"https://colab.research.google.com/assets/colab-badge.svg\" alt=\"Open In Colab\"/></a>"
      ]
    },
    {
      "cell_type": "code",
      "metadata": {
        "id": "eYXrtSTzwh0X"
      },
      "source": [
        "#Installing autotime to show execution time\n",
        "!pip install ipython-autotime\n",
        "%load_ext autotime"
      ],
      "execution_count": null,
      "outputs": []
    },
    {
      "cell_type": "markdown",
      "metadata": {
        "id": "QRpRqkzu32Po"
      },
      "source": [
        "- COLLECTING DATA"
      ]
    },
    {
      "cell_type": "code",
      "metadata": {
        "id": "xZ5Uuby225w4"
      },
      "source": [
        "#Installing webscraping tool to get images\n",
        "!pip install bing-image-downloader \n",
        "\n",
        "#Creating a directory for saving images\n",
        "!mkdir Images \n",
        "\n",
        "#Webscraping images from bing\n",
        "from bing_image_downloader import downloader\n",
        "downloader.download(\"drivers license\",limit=30,output_dir='Images',adult_filter_off=True)\n",
        "downloader.download(\"U.S. Passport cover\",limit=30,output_dir='Images',adult_filter_off=True)\n",
        "downloader.download(\"Print Blank DD214 Form\",limit=30,output_dir='Images',adult_filter_off=True)"
      ],
      "execution_count": null,
      "outputs": []
    },
    {
      "cell_type": "markdown",
      "metadata": {
        "id": "j51lz2Hm37Tx"
      },
      "source": [
        "- PREPROCESSING THE DATA"
      ]
    },
    {
      "cell_type": "code",
      "metadata": {
        "id": "xzfdhiYN3A2o"
      },
      "source": [
        "import os #-------------------------------------To work around folders\n",
        "import matplotlib.pyplot as plt #---------------To plot pixels as a whole image\n",
        "import numpy as np     \n",
        "from skimage.io import imread #-----------------To read images \n",
        "from skimage.transform import resize #----------To resize the images \n",
        "\n",
        "goal = []\n",
        "images = []\n",
        "flatimg = []\n",
        "\n",
        "dir = '/content/Images'\n",
        "cats = ['drivers license','U.S. Passport cover','Print Blank DD214 Form']\n",
        "\n",
        "for cat in cats:\n",
        "  code = cats.index(cat) #----------------------Label Encoding \n",
        "  path = os.path.join(dir,cat) #----------------Creating Path\n",
        "  for img in os.listdir(path):\n",
        "    picture = imread(os.path.join(path,img))\n",
        "    resizedimg = resize(picture,(150,150,3)) #--Resizing, also normalizes the value between 0 to 1\n",
        "    flatimg.append(resizedimg.flatten()) #------Flattening the Image\n",
        "    images.append(resizedimg)\n",
        "    goal.append(code)\n",
        "\n",
        "#Converting Lists into numpy arrays\n",
        "flatimg = np.array(flatimg)\n",
        "goal = np.array(goal)\n",
        "images = np.array(images)\n"
      ],
      "execution_count": null,
      "outputs": []
    },
    {
      "cell_type": "markdown",
      "metadata": {
        "id": "MtTEsdPN4CVn"
      },
      "source": [
        "- APPLYING ALGORITHM"
      ]
    },
    {
      "cell_type": "code",
      "metadata": {
        "colab": {
          "base_uri": "https://localhost:8080/"
        },
        "id": "kYTm0YAr3EZw",
        "outputId": "422a0c5e-c5a9-4771-e68e-7b61ac0b8eba"
      },
      "source": [
        "#Splitting data into training and testing\n",
        "from sklearn.model_selection import train_test_split\n",
        "x_train,x_test,y_train,y_test = train_test_split(flatimg,goal,test_size=0.3,random_state=109)\n",
        "\n",
        "from sklearn.model_selection import GridSearchCV\n",
        "from sklearn import svm\n",
        "parameters = [\n",
        "              {'C':[1,10,100,1000],'kernel':['linear']},\n",
        "              {'C':[1,10,100,1000],'gamma':[0.001,0.0001],'kernel':['rbf']}\n",
        "]\n",
        "\n",
        "svc = svm.SVC(probability=True)\n",
        "model = GridSearchCV(svc,parameters)\n",
        "model.fit(x_train,y_train)\n",
        "\n",
        "#Predicted Output\n",
        "y_pred = model.predict(x_test)\n",
        "print(\"Predicted Output =\", y_pred)\n",
        "\n",
        "#Test Output\n",
        "print(\"Test Output =\", y_test)\n",
        "\n",
        "\n",
        "#Testing the accuracy of the model\n",
        "from sklearn.metrics import accuracy_score,confusion_matrix\n",
        "print(\"Model Accuracy = \" + str(accuracy_score(y_pred,y_test)*100)+\"%\")\n",
        "\n",
        "#Saving the model using pickle library\n",
        "import pickle\n",
        "pickle.dump(model,open('img_model.p','wb'))"
      ],
      "execution_count": null,
      "outputs": [
        {
          "output_type": "stream",
          "text": [
            "Predicted Output = [1 0 1 2 2 1 0 1 1 0 1 1 0 2 2 1 2 1 0 1 1 2 2 0 0 0 1]\n",
            "Test Output = [1 0 1 2 2 1 0 1 1 0 1 0 1 2 2 1 2 1 0 1 2 2 2 0 0 0 1]\n",
            "Model Accuracy = 88.88888888888889%\n",
            "time: 1min 16s (started: 2021-06-19 06:40:17 +00:00)\n"
          ],
          "name": "stdout"
        }
      ]
    },
    {
      "cell_type": "markdown",
      "metadata": {
        "id": "UTB6a8qq4jDx"
      },
      "source": [
        "- TESTING THE MODEL"
      ]
    },
    {
      "cell_type": "code",
      "metadata": {
        "id": "fOKF5s1x3J8f"
      },
      "source": [
        "flatimg = []\n",
        "url = input(\"Enter image URL - \")\n",
        "img = imread(url)\n",
        "resizedimg = resize(img,(150,150,3))\n",
        "flatimg.append(resizedimg.flatten())\n",
        "flatimg = np.array(flatimg)\n",
        "plt.imshow(resizedimg)\n",
        "y_out = model.predict(flatimg)\n",
        "\n",
        "if y_out == 0:\n",
        "  y_out = \"Driver's License\"\n",
        "elif y_out == 1:\n",
        "  y_out = \"Passport\"\n",
        "elif y_out == 2:\n",
        "  y_out = \"DD214 (Military Form)\"\n",
        "else:\n",
        "  y_out = \"Other Image\"\n",
        "\n",
        "print(\"\\n\\nPREDICTED OUTPUT : \" + y_out +\"\\n\")\n",
        "\n"
      ],
      "execution_count": null,
      "outputs": []
    },
    {
      "cell_type": "code",
      "metadata": {
        "id": "XtJT67fX4q9L"
      },
      "source": [
        "#Match percentage of tested data with respect to the given categories \n",
        "x = model.predict_proba(flatimg)\n",
        "for index,item in enumerate(cats):\n",
        "  print(str(item) + \" = \" + str(round((x[0][index]*100),2)) + \"%\")"
      ],
      "execution_count": null,
      "outputs": []
    }
  ]
}